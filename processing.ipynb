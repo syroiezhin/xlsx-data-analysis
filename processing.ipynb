{
 "cells": [
  {
   "cell_type": "markdown",
   "metadata": {},
   "source": [
    "### Delete the file with the name with which we will create a new file"
   ]
  },
  {
   "cell_type": "code",
   "execution_count": 18,
   "metadata": {},
   "outputs": [
    {
     "data": {
      "text/plain": [
       "['Book1.xlsx', 'Book3.xlsx', 'Book2.xlsx']"
      ]
     },
     "execution_count": 18,
     "metadata": {},
     "output_type": "execute_result"
    }
   ],
   "source": [
    "from os import remove\n",
    "from os.path import isfile\n",
    "\n",
    "xlsx = 'unite.xlsx'\n",
    "\n",
    "if isfile(xlsx): remove(xlsx)\n",
    "\n",
    "from glob import glob\n",
    "fxls = glob('*.xlsx')\n",
    "fxls"
   ]
  },
  {
   "cell_type": "markdown",
   "metadata": {},
   "source": [
    "### Сreate a file with this name"
   ]
  },
  {
   "cell_type": "code",
   "execution_count": 19,
   "metadata": {},
   "outputs": [],
   "source": [
    "from pandas import ExcelWriter\n",
    "writer = ExcelWriter(xlsx, engine='xlsxwriter')\n",
    "writer.save()"
   ]
  },
  {
   "cell_type": "markdown",
   "metadata": {},
   "source": [
    "### The function of transferring pages from one file to a new one"
   ]
  },
  {
   "cell_type": "code",
   "execution_count": 20,
   "metadata": {},
   "outputs": [],
   "source": [
    "def save(this, sheet):\n",
    "    writer = ExcelWriter(xlsx, mode=\"a\", engine=\"openpyxl\")\n",
    "    this.to_excel(writer, sheet_name=f\"{sheet}\", index=False)\n",
    "    writer.save()"
   ]
  },
  {
   "cell_type": "markdown",
   "metadata": {},
   "source": [
    "### Iterate over files and pages of files to save their contents to a new file"
   ]
  },
  {
   "cell_type": "code",
   "execution_count": 21,
   "metadata": {},
   "outputs": [
    {
     "name": "stdout",
     "output_type": "stream",
     "text": [
      "Book1.xlsx : FIRST\n",
      "Book1.xlsx : SECOND\n",
      "Book1.xlsx : THIRD\n",
      "Book3.xlsx : FIRST3\n",
      "Book3.xlsx : SECOND3\n",
      "Book3.xlsx : THIRD3\n",
      "Book2.xlsx : FIRST2\n",
      "Book2.xlsx : SECOND2\n",
      "Book2.xlsx : THIRD2\n"
     ]
    }
   ],
   "source": [
    "from pandas import ExcelFile, read_excel\n",
    "for fxl in fxls:\n",
    "    ef = ExcelFile(fxl)\n",
    "    for sheet in ef.sheet_names:\n",
    "        save(this=read_excel(ef, sheet_name=sheet), sheet=sheet)\n",
    "        print(fxl, \":\", sheet)"
   ]
  },
  {
   "cell_type": "markdown",
   "metadata": {},
   "source": [
    "#### When we create a file, a page with a known name is also created, we can rename this page"
   ]
  },
  {
   "cell_type": "code",
   "execution_count": 22,
   "metadata": {},
   "outputs": [
    {
     "name": "stderr",
     "output_type": "stream",
     "text": [
      "/var/folders/w8/g98rrphn3bx_tzc3v6hvjn5r0000gn/T/ipykernel_76956/4077244973.py:5: DeprecationWarning: Call to deprecated function get_sheet_by_name (Use wb[sheetname]).\n",
      "  fxl.get_sheet_by_name('Sheet1').title = 'result'\n"
     ]
    }
   ],
   "source": [
    "from openpyxl import load_workbook\n",
    "\n",
    "def rename():\n",
    "    fxl = load_workbook(xlsx)\n",
    "    fxl.get_sheet_by_name('Sheet1').title = 'result'\n",
    "    fxl.save(xlsx)\n",
    "\n",
    "rename()"
   ]
  },
  {
   "cell_type": "markdown",
   "metadata": {},
   "source": [
    "### Now we can find out what pages UR file consists of"
   ]
  },
  {
   "cell_type": "code",
   "execution_count": 23,
   "metadata": {},
   "outputs": [
    {
     "name": "stdout",
     "output_type": "stream",
     "text": [
      "['result', 'FIRST', 'SECOND', 'THIRD', 'FIRST3', 'SECOND3', 'THIRD3', 'FIRST2', 'SECOND2', 'THIRD2']\n"
     ]
    }
   ],
   "source": [
    "fxl = load_workbook(xlsx)\n",
    "sheets = fxl.sheetnames\n",
    "print(sheets)"
   ]
  },
  {
   "cell_type": "markdown",
   "metadata": {},
   "source": [
    "### Add data to empty page"
   ]
  },
  {
   "cell_type": "code",
   "execution_count": 24,
   "metadata": {},
   "outputs": [
    {
     "name": "stderr",
     "output_type": "stream",
     "text": [
      "/var/folders/w8/g98rrphn3bx_tzc3v6hvjn5r0000gn/T/ipykernel_76956/177910856.py:3: DeprecationWarning: Call to deprecated function get_sheet_by_name (Use wb[sheetname]).\n",
      "  sheet = fxl.get_sheet_by_name(f'{sheet}')\n"
     ]
    }
   ],
   "source": [
    "def fill(xlsx, sheet, where, what):\n",
    "    fxl = load_workbook(f'{xlsx}')\n",
    "    sheet = fxl.get_sheet_by_name(f'{sheet}')\n",
    "    sheet[where]= str(what)\n",
    "    fxl.save(f'{xlsx}')\n",
    "\n",
    "sheet = 'result'\n",
    "where = 'A1'\n",
    "what = 'HOWDY GUEST'\n",
    "fill(xlsx, sheet, where, what)"
   ]
  },
  {
   "cell_type": "markdown",
   "metadata": {},
   "source": [
    "### Read information from a cell"
   ]
  },
  {
   "cell_type": "code",
   "execution_count": 8,
   "metadata": {},
   "outputs": [
    {
     "name": "stdout",
     "output_type": "stream",
     "text": [
      "[A1]= HOWDY GUEST\n"
     ]
    }
   ],
   "source": [
    "fxl = load_workbook(f'{xlsx}',read_only=False, keep_vba= True)\n",
    "cell_obj = fxl['result'].cell(row=1, column=1)\n",
    "print(f'[A1]= {cell_obj.value}')\n"
   ]
  },
  {
   "cell_type": "markdown",
   "metadata": {},
   "source": [
    "### U can also use Workbook to easily specify the address for the record"
   ]
  },
  {
   "cell_type": "code",
   "execution_count": 9,
   "metadata": {},
   "outputs": [],
   "source": [
    "from openpyxl import Workbook\n",
    "\n",
    "wb = Workbook()\n",
    "ws = wb.active\n",
    "ws['A1'] = 0\n",
    "ws.append([1, 2, 3])\n",
    "# wb.save(\"now_file.xlsx\")"
   ]
  },
  {
   "cell_type": "markdown",
   "metadata": {},
   "source": [
    "### To see the result in the file run this..."
   ]
  },
  {
   "cell_type": "code",
   "execution_count": 13,
   "metadata": {},
   "outputs": [
    {
     "data": {
      "text/plain": [
       "0"
      ]
     },
     "execution_count": 13,
     "metadata": {},
     "output_type": "execute_result"
    }
   ],
   "source": [
    "from os import system\n",
    "system('open unite.xlsx')"
   ]
  }
 ],
 "metadata": {
  "kernelspec": {
   "display_name": "Python 3.9.13",
   "language": "python",
   "name": "python3"
  },
  "language_info": {
   "codemirror_mode": {
    "name": "ipython",
    "version": 3
   },
   "file_extension": ".py",
   "mimetype": "text/x-python",
   "name": "python",
   "nbconvert_exporter": "python",
   "pygments_lexer": "ipython3",
   "version": "3.9.13"
  },
  "orig_nbformat": 4,
  "vscode": {
   "interpreter": {
    "hash": "5f23284fad75d58360d212629b595dfe6fd02dbd8325e77387b1e5cbaad4e030"
   }
  }
 },
 "nbformat": 4,
 "nbformat_minor": 2
}
