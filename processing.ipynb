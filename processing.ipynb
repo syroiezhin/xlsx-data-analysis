{
 "cells": [
  {
   "cell_type": "markdown",
   "metadata": {},
   "source": [
    "# 🏗 Groundwork 🪚"
   ]
  },
  {
   "cell_type": "code",
   "execution_count": 1,
   "metadata": {},
   "outputs": [
    {
     "name": "stdout",
     "output_type": "stream",
     "text": [
      "Name: pandas\n",
      "Version: 1.4.4\n",
      "Summary: Powerful data structures for data analysis, time series, and statistics\n",
      "Home-page: https://pandas.pydata.org\n",
      "Author: The Pandas Development Team\n",
      "Author-email: pandas-dev@python.org\n",
      "License: BSD-3-Clause\n",
      "Location: /Users/v.syroiezhin/opt/anaconda3/lib/python3.9/site-packages\n",
      "Requires: numpy, python-dateutil, pytz\n",
      "Required-by: datashader, holoviews, hvplot, seaborn, statsmodels, xarray\n"
     ]
    },
    {
     "data": {
      "text/plain": [
       "0"
      ]
     },
     "execution_count": 1,
     "metadata": {},
     "output_type": "execute_result"
    }
   ],
   "source": [
    "from os import system, remove\n",
    "from os.path import isfile\n",
    "from glob import glob\n",
    "from pandas import ExcelWriter, ExcelFile, read_excel\n",
    "from openpyxl import load_workbook\n",
    "\n",
    "xlsx = 'unite.xlsx'\n",
    "chief = 'chief'\n",
    "cell = 'C10'\n",
    "\n",
    "system('pip show pandas')"
   ]
  },
  {
   "cell_type": "markdown",
   "metadata": {},
   "source": [
    "# 📋 Sketch"
   ]
  },
  {
   "cell_type": "markdown",
   "metadata": {},
   "source": [
    "#### Delete the file with the reserved name, if it exists, and create a file to merge the contents"
   ]
  },
  {
   "cell_type": "code",
   "execution_count": 2,
   "metadata": {},
   "outputs": [
    {
     "name": "stdout",
     "output_type": "stream",
     "text": [
      "Before launch it was like this : \n",
      " ['ID.xlsx', 'packet.xlsx', 'payment.xlsx', 'unite.xlsx'] \n",
      "\n",
      "Deleted the file named unite.xlsx : \n",
      " ['ID.xlsx', 'packet.xlsx', 'payment.xlsx'] \n",
      "\n",
      "Created a file named unite.xlsx : \n",
      " ['ID.xlsx', 'packet.xlsx', 'payment.xlsx', 'unite.xlsx'] \n",
      "\n"
     ]
    }
   ],
   "source": [
    "def capacity(typefile)->list: return sorted([ file for file in glob(f'*.{typefile}') if '~$' not in file ])\n",
    "def review(message:str, typefile:str): print(message, '\\n', capacity(typefile), '\\n')\n",
    "\n",
    "review('Before launch it was like this :','xlsx')\n",
    "\n",
    "if isfile(xlsx): \n",
    "    remove(xlsx)\n",
    "    review('Deleted the file named unite.xlsx :','xlsx')\n",
    "fxls = capacity('xlsx')\n",
    "\n",
    "ExcelWriter(xlsx).save()\n",
    "review('Created a file named unite.xlsx :','xlsx')"
   ]
  },
  {
   "cell_type": "markdown",
   "metadata": {},
   "source": [
    "### Looping through files and pages of files to save their contents to a new file"
   ]
  },
  {
   "cell_type": "code",
   "execution_count": 3,
   "metadata": {},
   "outputs": [
    {
     "name": "stdout",
     "output_type": "stream",
     "text": [
      "\n",
      " ID.xlsx : ID \n",
      " packet.xlsx : packet \n",
      " payment.xlsx : payment "
     ]
    }
   ],
   "source": [
    "def fill(file:str, namesheet:str, content:list, columns:list=None, mode:str='a', index=False, header=True):\n",
    "    with ExcelWriter(file, mode=mode, engine=\"openpyxl\", if_sheet_exists=(None if mode=='w' else 'overlay')) as writer:  \n",
    "        content.to_excel(writer, sheet_name=namesheet, index=index, header=header, columns=columns)\n",
    "        \n",
    "def unite(fxls:list):\n",
    "    list_sheet=[]\n",
    "    for fxl in fxls:\n",
    "        ef = ExcelFile(fxl)\n",
    "        print('\\n', fxl, \":\", end=' ')\n",
    "        for sheet in ef.sheet_names:\n",
    "            list_sheet.append(sheet) if sheet not in list_sheet else list_sheet.append(sheet+'_'+fxl.replace('.xlsx',''))\n",
    "            fill(content=read_excel(ef, sheet_name=sheet), file=xlsx, namesheet=list_sheet[-1], mode='a', header=True)\n",
    "            print(list_sheet[-1], end=' ')\n",
    "\n",
    "unite(fxls)"
   ]
  },
  {
   "cell_type": "markdown",
   "metadata": {},
   "source": [
    "#### When we create a file, a page with a known name is also created, we can rename this page"
   ]
  },
  {
   "cell_type": "code",
   "execution_count": 4,
   "metadata": {},
   "outputs": [
    {
     "name": "stdout",
     "output_type": "stream",
     "text": [
      "Before: ['Sheet1', 'ID', 'packet', 'payment']\n",
      "After: ['chief', 'ID', 'packet', 'payment']\n"
     ]
    }
   ],
   "source": [
    "def rename(file:str, sheet:str, oldnamesheet:str='Sheet1'):\n",
    "    fxl = load_workbook(file)\n",
    "    fxl[oldnamesheet].title = sheet\n",
    "    fxl.save(file)\n",
    "\n",
    "def check(file:str, message:str='\\nResult of checking:'):\n",
    "    fxl = load_workbook(file)\n",
    "    sheets = fxl.sheetnames\n",
    "    print(message, sheets)\n",
    "\n",
    "check(xlsx, 'Before:')\n",
    "rename(xlsx, chief)\n",
    "check(xlsx, 'After:')"
   ]
  },
  {
   "cell_type": "markdown",
   "metadata": {},
   "source": [
    "### Write two lines of data to a file, disabling the names of rows and columns"
   ]
  },
  {
   "cell_type": "code",
   "execution_count": 5,
   "metadata": {},
   "outputs": [],
   "source": [
    "from pandas import DataFrame\n",
    "\n",
    "df = DataFrame(\n",
    "    [['1A', '1B','1C'], \n",
    "     ['2A', '2B','2C'], \n",
    "     ['3A', '3B','3C']],\n",
    "     columns=['A', 'B', 'C'],\n",
    "       index=['1', '2', '3'] \n",
    "    )\n",
    "\n",
    "fill(file=xlsx, namesheet=chief, content=df, columns=['C','A','B'])"
   ]
  },
  {
   "cell_type": "markdown",
   "metadata": {},
   "source": [
    "### Read information from a cell"
   ]
  },
  {
   "cell_type": "code",
   "execution_count": 6,
   "metadata": {},
   "outputs": [
    {
     "name": "stdout",
     "output_type": "stream",
     "text": [
      "In cells \"A1:C10\" of the \"chief\" page of the file \"unite.xlsx\" we got the contents of \n",
      "      C     A     B\n",
      "1    1C    1A    1B\n",
      "2    2C    2A    2B\n",
      "3    3C    3A    3B\n",
      "4  None  None  None\n",
      "5  None  None  None\n",
      "6  None  None  None\n",
      "7  None  None  None\n",
      "8  None  None  None\n",
      "9  None  None  None\n"
     ]
    }
   ],
   "source": [
    "def scan(file:str, namesheet:str, start:str='A', upto:str='A1') -> DataFrame:\n",
    "    tabl = []\n",
    "    fxl = load_workbook(file)\n",
    "    cells = fxl[namesheet][start+'1':upto]\n",
    "    columns = [ cells[0][c].value for c in range(len(cells[0])) ]\n",
    "    for cell in cells[1:]: tabl.append([ cell[c].value for c in range(len(cell)) ])\n",
    "    return DataFrame( tabl, columns=columns, index=list(range(1,int(upto[1:]))) )\n",
    "\n",
    "df = scan(file=xlsx, namesheet=chief, upto=cell)\n",
    "print(f'In cells \"A1:{cell}\" of the \"{chief}\" page of the file \"{xlsx}\" we got the contents of \\n{df}')\n",
    "\n",
    "fill(file=xlsx, namesheet=chief, content=df)"
   ]
  },
  {
   "cell_type": "markdown",
   "metadata": {},
   "source": [
    "### To see the result in the file run this..."
   ]
  },
  {
   "cell_type": "code",
   "execution_count": 7,
   "metadata": {},
   "outputs": [
    {
     "data": {
      "text/plain": [
       "0"
      ]
     },
     "execution_count": 7,
     "metadata": {},
     "output_type": "execute_result"
    }
   ],
   "source": [
    "system(f''' open {xlsx}; \n",
    "            sleep 10; \n",
    "            killall \"Microsoft Excel\" || taskkill \"Microsoft Excel\" ''') # mac || win"
   ]
  }
 ],
 "metadata": {
  "kernelspec": {
   "display_name": "Python 3.9.13",
   "language": "python",
   "name": "python3"
  },
  "language_info": {
   "codemirror_mode": {
    "name": "ipython",
    "version": 3
   },
   "file_extension": ".py",
   "mimetype": "text/x-python",
   "name": "python",
   "nbconvert_exporter": "python",
   "pygments_lexer": "ipython3",
   "version": "3.9.13"
  },
  "orig_nbformat": 4,
  "vscode": {
   "interpreter": {
    "hash": "5f23284fad75d58360d212629b595dfe6fd02dbd8325e77387b1e5cbaad4e030"
   }
  }
 },
 "nbformat": 4,
 "nbformat_minor": 2
}
