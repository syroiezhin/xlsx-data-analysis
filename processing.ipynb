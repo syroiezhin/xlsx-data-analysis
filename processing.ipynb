{
 "cells": [
  {
   "cell_type": "markdown",
   "metadata": {},
   "source": [
    "#### Delete the file with the reserved name, if it exists, and create a file to merge the contents"
   ]
  },
  {
   "cell_type": "code",
   "execution_count": 93,
   "metadata": {},
   "outputs": [
    {
     "name": "stdout",
     "output_type": "stream",
     "text": [
      "Before launch it was like this : \n",
      " ['Book1.xlsx', 'unite.xlsx', 'Book3.xlsx', 'Book2.xlsx'] \n",
      "\n",
      "Deleted the file named unite.xlsx : \n",
      " ['Book1.xlsx', 'Book3.xlsx', 'Book2.xlsx'] \n",
      "\n",
      "Created a file named unite.xlsx : \n",
      " ['Book1.xlsx', 'unite.xlsx', 'Book3.xlsx', 'Book2.xlsx'] \n",
      "\n"
     ]
    }
   ],
   "source": [
    "xlsx = 'unite.xlsx'\n",
    "\n",
    "from glob import glob\n",
    "def capacity(): return glob('*.xlsx') \n",
    "def check(message): print(message, '\\n', capacity(), '\\n')\n",
    "\n",
    "check('Before launch it was like this :')\n",
    "\n",
    "from os import remove\n",
    "from os.path import isfile\n",
    "if isfile(xlsx): \n",
    "    remove(xlsx)\n",
    "    check('Deleted the file named unite.xlsx :')\n",
    "fxls = sorted(capacity())\n",
    "\n",
    "from pandas import ExcelWriter\n",
    "ExcelWriter(xlsx).save()\n",
    "check('Created a file named unite.xlsx :')"
   ]
  },
  {
   "cell_type": "markdown",
   "metadata": {},
   "source": [
    "### Looping through files and pages of files to save their contents to a new file"
   ]
  },
  {
   "cell_type": "code",
   "execution_count": 94,
   "metadata": {},
   "outputs": [
    {
     "name": "stdout",
     "output_type": "stream",
     "text": [
      "\n",
      " Book1.xlsx : FIRST \n",
      " Book2.xlsx : FIRST_Book2 SECOND \n",
      " Book3.xlsx : FIRST_Book3 SECOND_Book3 THIRD "
     ]
    }
   ],
   "source": [
    "from pandas import ExcelFile, read_excel\n",
    "\n",
    "def supplementation(this, file, sheet):\n",
    "    writer = ExcelWriter(file, mode=\"a\", engine=\"openpyxl\")\n",
    "    this.to_excel(writer, sheet_name=f\"{sheet}\", index=False)\n",
    "    writer.save()\n",
    "\n",
    "def unite():\n",
    "    list_sheet=[]\n",
    "\n",
    "    for fxl in fxls:\n",
    "        ef = ExcelFile(fxl)\n",
    "        print('\\n', fxl, \":\", end=' ')\n",
    "        for sheet in ef.sheet_names:\n",
    "            list_sheet.append(sheet) if sheet not in list_sheet else list_sheet.append(sheet+'_'+fxl.replace('.xlsx',''))\n",
    "            supplementation(this=read_excel(ef, sheet_name=sheet), file=xlsx, sheet=list_sheet[-1])\n",
    "            print(list_sheet[-1], end=' ')\n",
    "\n",
    "unite()"
   ]
  },
  {
   "cell_type": "markdown",
   "metadata": {},
   "source": [
    "#### When we create a file, a page with a known name is also created, we can rename this page"
   ]
  },
  {
   "cell_type": "code",
   "execution_count": 95,
   "metadata": {},
   "outputs": [
    {
     "name": "stdout",
     "output_type": "stream",
     "text": [
      "Before: ['Sheet1', 'FIRST', 'FIRST_Book2', 'SECOND', 'FIRST_Book3', 'SECOND_Book3', 'THIRD']\n",
      "After: ['chief', 'FIRST', 'FIRST_Book2', 'SECOND', 'FIRST_Book3', 'SECOND_Book3', 'THIRD']\n"
     ]
    }
   ],
   "source": [
    "from openpyxl import load_workbook\n",
    "\n",
    "def rename(file, sheet):\n",
    "    fxl = load_workbook(file)\n",
    "    fxl['Sheet1'].title = sheet\n",
    "    fxl.save(file)\n",
    "\n",
    "def verify(file, message='Result:'):\n",
    "    fxl = load_workbook(file)\n",
    "    sheets = fxl.sheetnames\n",
    "    print(message, sheets)\n",
    "\n",
    "verify(xlsx, 'Before:')\n",
    "chief = 'chief'\n",
    "rename(xlsx, chief)\n",
    "verify(xlsx, 'After:')"
   ]
  },
  {
   "cell_type": "markdown",
   "metadata": {},
   "source": [
    "### Add data to empty page"
   ]
  },
  {
   "cell_type": "code",
   "execution_count": 96,
   "metadata": {},
   "outputs": [
    {
     "name": "stdout",
     "output_type": "stream",
     "text": [
      "The \"HOWDY GUEST\" content has been added to cell \"A1\" of the \"chief\" page of the \"unite.xlsx\" file.\n"
     ]
    }
   ],
   "source": [
    "cell = 'A1'\n",
    "content = 'HOWDY GUEST'\n",
    "\n",
    "def fill(file, namesheet, cell, content):\n",
    "    fxl = load_workbook(file)\n",
    "    sheet = fxl[namesheet]\n",
    "    sheet[cell]= str(content)\n",
    "    fxl.save(file)\n",
    "    print(f'The \"{content}\" content has been added to cell \"{cell}\" of the \"{namesheet}\" page of the \"{file}\" file.')\n",
    "\n",
    "fill(file=xlsx, namesheet=chief, cell=cell, content=content)"
   ]
  },
  {
   "cell_type": "markdown",
   "metadata": {},
   "source": [
    "### Read information from a cell"
   ]
  },
  {
   "cell_type": "code",
   "execution_count": 97,
   "metadata": {},
   "outputs": [
    {
     "name": "stdout",
     "output_type": "stream",
     "text": [
      "In cell \"A1\" of the \"chief\" page of the file \"unite.xlsx\" we got the contents of \"HOWDY GUEST\".\n"
     ]
    }
   ],
   "source": [
    "def scan(file, namesheet, cell):\n",
    "    fxl = load_workbook(f'{file}',read_only=False, keep_vba= True)\n",
    "    cell_obj = fxl[namesheet][cell]\n",
    "    return cell_obj.value\n",
    "\n",
    "output = scan(file=xlsx, namesheet=chief, cell=cell)\n",
    "print(f'In cell \"{cell}\" of the \"{chief}\" page of the file \"{xlsx}\" we got the contents of \"{output}\".')"
   ]
  },
  {
   "cell_type": "markdown",
   "metadata": {},
   "source": [
    "### To see the result in the file run this..."
   ]
  },
  {
   "cell_type": "code",
   "execution_count": 98,
   "metadata": {},
   "outputs": [
    {
     "data": {
      "text/plain": [
       "0"
      ]
     },
     "execution_count": 98,
     "metadata": {},
     "output_type": "execute_result"
    }
   ],
   "source": [
    "from os import system\n",
    "system('open unite.xlsx')"
   ]
  }
 ],
 "metadata": {
  "kernelspec": {
   "display_name": "Python 3.9.13",
   "language": "python",
   "name": "python3"
  },
  "language_info": {
   "codemirror_mode": {
    "name": "ipython",
    "version": 3
   },
   "file_extension": ".py",
   "mimetype": "text/x-python",
   "name": "python",
   "nbconvert_exporter": "python",
   "pygments_lexer": "ipython3",
   "version": "3.9.13"
  },
  "orig_nbformat": 4,
  "vscode": {
   "interpreter": {
    "hash": "5f23284fad75d58360d212629b595dfe6fd02dbd8325e77387b1e5cbaad4e030"
   }
  }
 },
 "nbformat": 4,
 "nbformat_minor": 2
}
