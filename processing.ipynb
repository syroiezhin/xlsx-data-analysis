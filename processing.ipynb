{
 "cells": [
  {
   "cell_type": "markdown",
   "metadata": {},
   "source": [
    "#### Delete the file with the reserved name, if it exists, and create a file to merge the contents"
   ]
  },
  {
   "cell_type": "code",
   "execution_count": 1,
   "metadata": {},
   "outputs": [
    {
     "name": "stdout",
     "output_type": "stream",
     "text": [
      "Before launch it was like this : \n",
      " ['Book1.xlsx', 'Book3.xlsx', 'Book2.xlsx'] \n",
      "\n",
      "Created a file named unite.xlsx : \n",
      " ['Book1.xlsx', 'unite.xlsx', 'Book3.xlsx', 'Book2.xlsx'] \n",
      "\n"
     ]
    }
   ],
   "source": [
    "xlsx = 'unite.xlsx'\n",
    "\n",
    "from glob import glob\n",
    "def capacity(): return glob('*.xlsx') \n",
    "def check(message): print(message, '\\n', capacity(), '\\n')\n",
    "\n",
    "check('Before launch it was like this :')\n",
    "\n",
    "from os import remove\n",
    "from os.path import isfile\n",
    "if isfile(xlsx): \n",
    "    remove(xlsx)\n",
    "    check('Deleted the file named unite.xlsx :')\n",
    "fxls = capacity()\n",
    "\n",
    "from pandas import ExcelWriter\n",
    "ExcelWriter(xlsx).save()\n",
    "check('Created a file named unite.xlsx :')"
   ]
  },
  {
   "cell_type": "markdown",
   "metadata": {},
   "source": [
    "### Looping through files and pages of files to save their contents to a new file"
   ]
  },
  {
   "cell_type": "code",
   "execution_count": 2,
   "metadata": {},
   "outputs": [
    {
     "name": "stdout",
     "output_type": "stream",
     "text": [
      "Book1.xlsx : FIRST\n",
      "Book1.xlsx : SECOND\n",
      "Book1.xlsx : THIRD\n",
      "Book3.xlsx : FIRST3\n",
      "Book3.xlsx : SECOND3\n",
      "Book3.xlsx : THIRD3\n",
      "Book2.xlsx : FIRST2\n",
      "Book2.xlsx : SECOND2\n",
      "Book2.xlsx : THIRD2\n"
     ]
    }
   ],
   "source": [
    "from pandas import ExcelFile, read_excel\n",
    "\n",
    "def supplementation(this, file, sheet):\n",
    "    writer = ExcelWriter(file, mode=\"a\", engine=\"openpyxl\")\n",
    "    this.to_excel(writer, sheet_name=f\"{sheet}\", index=False)\n",
    "    writer.save()\n",
    "\n",
    "for fxl in fxls:\n",
    "    ef = ExcelFile(fxl)\n",
    "    for sheet in ef.sheet_names:\n",
    "        supplementation(this=read_excel(ef, sheet_name=sheet), file=xlsx, sheet=sheet)\n",
    "        print(fxl, \":\", sheet)"
   ]
  },
  {
   "cell_type": "markdown",
   "metadata": {},
   "source": [
    "#### When we create a file, a page with a known name is also created, we can rename this page"
   ]
  },
  {
   "cell_type": "code",
   "execution_count": 3,
   "metadata": {},
   "outputs": [
    {
     "name": "stdout",
     "output_type": "stream",
     "text": [
      "['chief', 'FIRST', 'SECOND', 'THIRD', 'FIRST3', 'SECOND3', 'THIRD3', 'FIRST2', 'SECOND2', 'THIRD2']\n"
     ]
    }
   ],
   "source": [
    "from openpyxl import load_workbook\n",
    "\n",
    "def rename(sheet):\n",
    "    fxl = load_workbook(xlsx)\n",
    "    fxl['Sheet1'].title = sheet\n",
    "    fxl.save(xlsx)\n",
    "\n",
    "def verify():\n",
    "    fxl = load_workbook(xlsx)\n",
    "    sheets = fxl.sheetnames\n",
    "    print(sheets)\n",
    "\n",
    "chief = 'chief'\n",
    "rename(chief)\n",
    "verify()"
   ]
  },
  {
   "cell_type": "markdown",
   "metadata": {},
   "source": [
    "### Add data to empty page"
   ]
  },
  {
   "cell_type": "code",
   "execution_count": 4,
   "metadata": {},
   "outputs": [
    {
     "name": "stdout",
     "output_type": "stream",
     "text": [
      "The \"HOWDY GUEST\" content has been added to cell \"A1\" of the \"chief\" page of the \"unite.xlsx\" file.\n"
     ]
    }
   ],
   "source": [
    "def fill(file, namesheet, cell, content):\n",
    "    fxl = load_workbook(f'{file}')\n",
    "    sheet = fxl[f'{namesheet}']\n",
    "    sheet[cell]= str(content)\n",
    "    fxl.save(f'{file}')\n",
    "    print(f'The \"{content}\" content has been added to cell \"{cell}\" of the \"{namesheet}\" page of the \"{file}\" file.')\n",
    "\n",
    "cell = 'A1'\n",
    "content = 'HOWDY GUEST'\n",
    "fill(file=xlsx, namesheet=chief, cell=cell, content=content)"
   ]
  },
  {
   "cell_type": "markdown",
   "metadata": {},
   "source": [
    "### Read information from a cell"
   ]
  },
  {
   "cell_type": "code",
   "execution_count": 5,
   "metadata": {},
   "outputs": [
    {
     "name": "stdout",
     "output_type": "stream",
     "text": [
      "In cell \"A1\" of the \"chief\" page of the file \"unite.xlsx\" we got the contents of \"HOWDY GUEST\".\n"
     ]
    }
   ],
   "source": [
    "def scan(file, namesheet, cell):\n",
    "    fxl = load_workbook(f'{file}',read_only=False, keep_vba= True)\n",
    "    cell_obj = fxl[namesheet][cell]\n",
    "    return cell_obj.value\n",
    "\n",
    "output = scan(file=xlsx, namesheet=chief, cell=cell)\n",
    "print(f'In cell \"{cell}\" of the \"{chief}\" page of the file \"{xlsx}\" we got the contents of \"{output}\".')"
   ]
  },
  {
   "cell_type": "markdown",
   "metadata": {},
   "source": [
    "### To see the result in the file run this..."
   ]
  },
  {
   "cell_type": "code",
   "execution_count": 6,
   "metadata": {},
   "outputs": [
    {
     "data": {
      "text/plain": [
       "0"
      ]
     },
     "execution_count": 6,
     "metadata": {},
     "output_type": "execute_result"
    }
   ],
   "source": [
    "from os import system\n",
    "system('open unite.xlsx')"
   ]
  }
 ],
 "metadata": {
  "kernelspec": {
   "display_name": "Python 3.9.13",
   "language": "python",
   "name": "python3"
  },
  "language_info": {
   "codemirror_mode": {
    "name": "ipython",
    "version": 3
   },
   "file_extension": ".py",
   "mimetype": "text/x-python",
   "name": "python",
   "nbconvert_exporter": "python",
   "pygments_lexer": "ipython3",
   "version": "3.9.13"
  },
  "orig_nbformat": 4,
  "vscode": {
   "interpreter": {
    "hash": "5f23284fad75d58360d212629b595dfe6fd02dbd8325e77387b1e5cbaad4e030"
   }
  }
 },
 "nbformat": 4,
 "nbformat_minor": 2
}
