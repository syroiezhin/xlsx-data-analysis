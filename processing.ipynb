{
 "cells": [
  {
   "cell_type": "code",
   "execution_count": 1,
   "metadata": {},
   "outputs": [
    {
     "name": "stdout",
     "output_type": "stream",
     "text": [
      "Name: pandas\n",
      "Version: 1.4.4\n",
      "Summary: Powerful data structures for data analysis, time series, and statistics\n",
      "Home-page: https://pandas.pydata.org\n",
      "Author: The Pandas Development Team\n",
      "Author-email: pandas-dev@python.org\n",
      "License: BSD-3-Clause\n",
      "Location: /Users/v.syroiezhin/opt/anaconda3/lib/python3.9/site-packages\n",
      "Requires: numpy, python-dateutil, pytz\n",
      "Required-by: datashader, holoviews, hvplot, seaborn, statsmodels, xarray\n"
     ]
    },
    {
     "data": {
      "text/plain": [
       "0"
      ]
     },
     "execution_count": 1,
     "metadata": {},
     "output_type": "execute_result"
    }
   ],
   "source": [
    "from os import system\n",
    "system('pip show pandas')"
   ]
  },
  {
   "cell_type": "markdown",
   "metadata": {},
   "source": [
    "#### Delete the file with the reserved name, if it exists, and create a file to merge the contents"
   ]
  },
  {
   "cell_type": "code",
   "execution_count": 2,
   "metadata": {},
   "outputs": [
    {
     "name": "stdout",
     "output_type": "stream",
     "text": [
      "Before launch it was like this : \n",
      " ['Book1.xlsx', 'unite.xlsx', 'Book3.xlsx', 'Book2.xlsx'] \n",
      "\n",
      "Deleted the file named unite.xlsx : \n",
      " ['Book1.xlsx', 'Book3.xlsx', 'Book2.xlsx'] \n",
      "\n",
      "Created a file named unite.xlsx : \n",
      " ['Book1.xlsx', 'unite.xlsx', 'Book3.xlsx', 'Book2.xlsx'] \n",
      "\n"
     ]
    }
   ],
   "source": [
    "xlsx = 'unite.xlsx'\n",
    "\n",
    "from glob import glob\n",
    "def capacity()->list: return glob('*.xlsx') \n",
    "def check(message:str): print(message, '\\n', capacity(), '\\n')\n",
    "\n",
    "check('Before launch it was like this :')\n",
    "\n",
    "from os import remove\n",
    "from os.path import isfile\n",
    "if isfile(xlsx): \n",
    "    remove(xlsx)\n",
    "    check('Deleted the file named unite.xlsx :')\n",
    "fxls = sorted(capacity())\n",
    "\n",
    "from pandas import ExcelWriter\n",
    "ExcelWriter(xlsx).save()\n",
    "check('Created a file named unite.xlsx :')"
   ]
  },
  {
   "cell_type": "markdown",
   "metadata": {},
   "source": [
    "### Looping through files and pages of files to save their contents to a new file"
   ]
  },
  {
   "cell_type": "code",
   "execution_count": 3,
   "metadata": {},
   "outputs": [
    {
     "name": "stdout",
     "output_type": "stream",
     "text": [
      "\n",
      " Book1.xlsx : FIRST \n",
      " Book2.xlsx : FIRST_Book2 SECOND \n",
      " Book3.xlsx : FIRST_Book3 SECOND_Book3 THIRD "
     ]
    }
   ],
   "source": [
    "from pandas import ExcelFile, read_excel\n",
    "\n",
    "def supplementation(this:list, file:str, sheet:str):\n",
    "    writer = ExcelWriter(file, mode=\"a\", engine=\"openpyxl\")\n",
    "    this.to_excel(writer, sheet_name=sheet, index=False, header=False)\n",
    "    writer.save()\n",
    "\n",
    "def unite(fxls:list):\n",
    "    list_sheet=[]\n",
    "    for fxl in fxls:\n",
    "        ef = ExcelFile(fxl)\n",
    "        print('\\n', fxl, \":\", end=' ')\n",
    "        for sheet in ef.sheet_names:\n",
    "            list_sheet.append(sheet) if sheet not in list_sheet else list_sheet.append(sheet+'_'+fxl.replace('.xlsx',''))\n",
    "            supplementation(this=read_excel(ef, sheet_name=sheet), file=xlsx, sheet=list_sheet[-1])\n",
    "            print(list_sheet[-1], end=' ')\n",
    "\n",
    "unite(fxls)"
   ]
  },
  {
   "cell_type": "markdown",
   "metadata": {},
   "source": [
    "#### When we create a file, a page with a known name is also created, we can rename this page"
   ]
  },
  {
   "cell_type": "code",
   "execution_count": 4,
   "metadata": {},
   "outputs": [
    {
     "name": "stdout",
     "output_type": "stream",
     "text": [
      "Before: ['Sheet1', 'FIRST', 'FIRST_Book2', 'SECOND', 'FIRST_Book3', 'SECOND_Book3', 'THIRD']\n",
      "After: ['chief', 'FIRST', 'FIRST_Book2', 'SECOND', 'FIRST_Book3', 'SECOND_Book3', 'THIRD']\n"
     ]
    }
   ],
   "source": [
    "from openpyxl import load_workbook\n",
    "\n",
    "def rename(file:str, sheet:str):\n",
    "    fxl = load_workbook(file)\n",
    "    fxl['Sheet1'].title = sheet\n",
    "    fxl.save(file)\n",
    "\n",
    "def verify(file:str, message:str='Result:'):\n",
    "    fxl = load_workbook(file)\n",
    "    sheets = fxl.sheetnames\n",
    "    print(message, sheets)\n",
    "\n",
    "verify(xlsx, 'Before:')\n",
    "chief = 'chief'\n",
    "rename(xlsx, chief)\n",
    "verify(xlsx, 'After:')"
   ]
  },
  {
   "cell_type": "markdown",
   "metadata": {},
   "source": [
    "### Add data to empty page"
   ]
  },
  {
   "cell_type": "code",
   "execution_count": 5,
   "metadata": {},
   "outputs": [
    {
     "name": "stdout",
     "output_type": "stream",
     "text": [
      "The \"HOWDY GUEST\" content has been added to cell \"D4\" of the \"chief\" page of the \"unite.xlsx\" file.\n"
     ]
    }
   ],
   "source": [
    "cell = 'D4'\n",
    "content = 'HOWDY GUEST'\n",
    "\n",
    "def change1cell(file:str, namesheet:str, cell:str, content:str):\n",
    "    fxl = load_workbook(file)\n",
    "    sheet = fxl[namesheet]\n",
    "    sheet[cell]= str(content)\n",
    "    fxl.save(file)\n",
    "    print(f'The \"{content}\" content has been added to cell \"{cell}\" of the \"{namesheet}\" page of the \"{file}\" file.')\n",
    "\n",
    "change1cell(file=xlsx, namesheet=chief, cell=cell, content=content)"
   ]
  },
  {
   "cell_type": "markdown",
   "metadata": {},
   "source": [
    "### Function to overwrite more than one cell"
   ]
  },
  {
   "cell_type": "code",
   "execution_count": 6,
   "metadata": {},
   "outputs": [],
   "source": [
    "def fill(file, namesheet, content, mode:str='w', index=False, header=False):\n",
    "    with ExcelWriter(file, mode=mode, engine=\"openpyxl\", if_sheet_exists=(None if mode=='w' else 'overlay')) as writer:  \n",
    "        content.to_excel(writer, sheet_name=namesheet, index=index, header=header)"
   ]
  },
  {
   "cell_type": "markdown",
   "metadata": {},
   "source": [
    "### Write two lines of data to a file, disabling the names of rows and columns"
   ]
  },
  {
   "cell_type": "code",
   "execution_count": 7,
   "metadata": {},
   "outputs": [],
   "source": [
    "from pandas import DataFrame\n",
    "\n",
    "df = DataFrame(\n",
    "    [['1A', '1B','1C'], \n",
    "     ['2A', '2B','2C'], \n",
    "     ['3A', '3B','3C']],\n",
    "     columns=['A', 'B', 'C'],\n",
    "       index=['1', '2', '3'] \n",
    "    )\n",
    "\n",
    "fill(file=xlsx, namesheet=chief, content=df, mode='a')"
   ]
  },
  {
   "cell_type": "markdown",
   "metadata": {},
   "source": [
    "### Read information from a cell"
   ]
  },
  {
   "cell_type": "code",
   "execution_count": 8,
   "metadata": {},
   "outputs": [
    {
     "name": "stdout",
     "output_type": "stream",
     "text": [
      "In cells \"A1:G7\" of the \"chief\" page of the file \"unite.xlsx\" we got the contents of \n",
      "      A     B     C            D     E     F     G\n",
      "1    1A    1B    1C         None  None  None  None\n",
      "2    2A    2B    2C         None  None  None  None\n",
      "3    3A    3B    3C         None  None  None  None\n",
      "4  None  None  None  HOWDY GUEST  None  None  None\n",
      "5  None  None  None         None  None  None  None\n",
      "6  None  None  None         None  None  None  None\n",
      "7  None  None  None         None  None  None  None\n"
     ]
    }
   ],
   "source": [
    "cell = 'G7'\n",
    "\n",
    "def scan(file:str, namesheet:str, upto:str, start:str='A1') -> DataFrame:\n",
    "    tabl = []\n",
    "    alf = {'A': 0, 'B': 1, 'C': 2, 'D': 3, 'E': 4, 'F': 5, 'G': 6, 'H': 7, 'I': 8, 'J': 9, 'K': 10, 'L': 11, 'M': 12, 'N': 13, 'O': 14, 'P': 15, 'Q': 16, 'R': 17, 'S': 18, 'T': 19, 'U': 20, 'V': 21, 'W': 22, 'X': 23, 'Y': 24, 'Z': 25}\n",
    "    fxl = load_workbook(file, read_only=False, keep_vba= True)\n",
    "    cells = fxl[namesheet][start:upto]\n",
    "    columns = alf.keys()\n",
    "    for cell in cells: tabl.append([ cell[c].value for c in range(len(cells)) ])\n",
    "    return DataFrame(tabl, columns=list(columns)[0:(1+alf[upto[0]]-alf[start[0]])], index=[list(range(1,2+int(alf[upto[0]])))])\n",
    "\n",
    "df = scan(file=xlsx, namesheet=chief, upto=cell)\n",
    "print(f'In cells \"A1:{cell}\" of the \"{chief}\" page of the file \"{xlsx}\" we got the contents of \\n{df}')"
   ]
  },
  {
   "cell_type": "code",
   "execution_count": 9,
   "metadata": {},
   "outputs": [
    {
     "name": "stdout",
     "output_type": "stream",
     "text": [
      "The drawn table in the previous block of code has been written to a file\n"
     ]
    }
   ],
   "source": [
    "fill(file=xlsx, namesheet=chief, content=df, mode='w', index=True, header=True)\n",
    "print('The drawn table in the previous block of code has been written to a file')"
   ]
  },
  {
   "cell_type": "markdown",
   "metadata": {},
   "source": [
    "### To see the result in the file run this..."
   ]
  },
  {
   "cell_type": "code",
   "execution_count": 10,
   "metadata": {},
   "outputs": [
    {
     "data": {
      "text/plain": [
       "0"
      ]
     },
     "execution_count": 10,
     "metadata": {},
     "output_type": "execute_result"
    }
   ],
   "source": [
    "system(f'open {xlsx}')"
   ]
  }
 ],
 "metadata": {
  "kernelspec": {
   "display_name": "Python 3.9.13",
   "language": "python",
   "name": "python3"
  },
  "language_info": {
   "codemirror_mode": {
    "name": "ipython",
    "version": 3
   },
   "file_extension": ".py",
   "mimetype": "text/x-python",
   "name": "python",
   "nbconvert_exporter": "python",
   "pygments_lexer": "ipython3",
   "version": "3.9.13"
  },
  "orig_nbformat": 4,
  "vscode": {
   "interpreter": {
    "hash": "5f23284fad75d58360d212629b595dfe6fd02dbd8325e77387b1e5cbaad4e030"
   }
  }
 },
 "nbformat": 4,
 "nbformat_minor": 2
}
