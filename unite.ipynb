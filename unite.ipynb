{
 "cells": [
  {
   "cell_type": "markdown",
   "metadata": {},
   "source": [
    "# 🏗 Groundwork 🪚"
   ]
  },
  {
   "cell_type": "code",
   "execution_count": 1,
   "metadata": {},
   "outputs": [],
   "source": [
    "from glob import glob\n",
    "from os.path import isfile\n",
    "from os import system, remove\n",
    "from openpyxl import load_workbook\n",
    "from pandas import ExcelWriter, DataFrame, ExcelFile, merge, concat, read_excel\n",
    "\n",
    "xlsx = 'unite.xlsx'\n",
    "chief = 'chief'\n",
    "payment = 'payment'\n",
    "packet = 'packet'\n",
    "edrpou = 'edrpou'\n",
    "packet_name = 'packet_name'\n",
    "medinst = 'Назва закладу'\n",
    "regarea = 'Область реєстрації'\n",
    "ownership ='Форма власності'\n",
    "monthly_finance = range(1,10)"
   ]
  },
  {
   "cell_type": "markdown",
   "metadata": {},
   "source": [
    "# 👷🏾‍♂️ Functional 👨🏽‍🏭"
   ]
  },
  {
   "cell_type": "code",
   "execution_count": 2,
   "metadata": {},
   "outputs": [],
   "source": [
    "def newfile(name:str): \n",
    "    if isfile(xlsx): remove(xlsx)\n",
    "    ExcelWriter(name).save()\n",
    "\n",
    "def capacity(typefile:str)->list: return sorted([ file for file in glob(f'*.{typefile}') if '~$' not in file ])\n",
    "\n",
    "def fill(file:str, namesheet:str, content:list, columns:list=None, mode:str='w', index:bool=False, header:bool=True):\n",
    "    with ExcelWriter(file, mode=mode, engine=\"openpyxl\", if_sheet_exists=(None if mode=='w' else 'overlay')) as writer:  \n",
    "        content.to_excel(writer, sheet_name=namesheet, index=index, header=header, columns=columns)\n",
    "        \n",
    "def unitexls(fxls:list):\n",
    "    list_sheet=[]\n",
    "    for fxl in fxls:\n",
    "        ef = ExcelFile(fxl)\n",
    "        print('\\n', fxl, \":\", end=' ')\n",
    "        for sheet in ef.sheet_names:\n",
    "            list_sheet.append(sheet) if sheet not in list_sheet else list_sheet.append(sheet+'_'+fxl.replace('.xlsx',''))\n",
    "            fill(content=read_excel(ef, sheet_name=sheet), file=xlsx, namesheet=list_sheet[-1], mode='a', header=True)\n",
    "            print(list_sheet[-1], end=' ')\n",
    "\n",
    "def rename(file:str, sheet:str, oldnamesheet:str='Sheet1'):\n",
    "    fxl = load_workbook(file)\n",
    "    fxl[oldnamesheet].title = sheet\n",
    "    fxl.save(file)\n",
    "\n",
    "def check(file:str, message:str='\\nResult of checking:'):\n",
    "    fxl = load_workbook(file)\n",
    "    sheets = fxl.sheetnames\n",
    "    print(message, sheets, end='\\n\\n')\n",
    "\n",
    "def scan(file:str, namesheet:str, start:str='A', upto:str='A1') -> DataFrame:\n",
    "    tabl = []\n",
    "    fxl = load_workbook(file)\n",
    "    cells = fxl[namesheet][start+'1':upto]\n",
    "    columns = [ cells[0][c].value for c in range(len(cells[0])) ]\n",
    "    for cell in cells[1:]: tabl.append([ cell[c].value for c in range(len(cell)) ])\n",
    "    return DataFrame( tabl, columns=columns, index=list(range(1,int(upto[1:]))) )\n",
    "\n",
    "def connect(dfs:DataFrame) -> DataFrame:\n",
    "    for df in dfs[1:]: dfs[0] = dfs[0].join(df,how='right')\n",
    "    return dfs[0]\n",
    "\n",
    "def add2matrix(matrix:list, index:int, value:list): matrix[index]=matrix[index]+value\n",
    "\n",
    "def column2rows(df:DataFrame, column:int) -> list:\n",
    "\n",
    "    D=[[]]*column\n",
    "    enum = -1\n",
    "\n",
    "    for k,v in df.values: \n",
    "        if int(k)==1: enum+=1\n",
    "        add2matrix(D,enum,[v])\n",
    "    \n",
    "    ''' optional, may be useful to fill empty cells with zeros '''\n",
    "    # for k in range(len(D)): \n",
    "    #     while len(D[k])!=max(df['month']):\n",
    "    #         add2matrix(D,k,[0.0])\n",
    "\n",
    "    return D\n",
    "\n",
    "def enable(file:str, turnoff:str=\"Microsoft Excel\", afterseconds:int=60): system(f'''open {file}; sleep {afterseconds};   killall \"{turnoff}\" || taskkill /f /im {turnoff.split()[-1]}.exe /t''') # mac || win"
   ]
  },
  {
   "cell_type": "markdown",
   "metadata": {},
   "source": [
    "# 🫡 Screenplay 📝"
   ]
  },
  {
   "cell_type": "code",
   "execution_count": null,
   "metadata": {},
   "outputs": [],
   "source": [
    "newfile(xlsx)\n",
    "fxls = capacity('xlsx')\n",
    "fxls.remove(xlsx)\n",
    "unitexls(fxls)\n",
    "rename(xlsx, chief)\n",
    "check(xlsx)\n",
    "\n",
    "# we work in file payment\n",
    "dfme = scan(file=xlsx, namesheet=payment, upto='A87')\n",
    "dfmp = scan(file=xlsx, namesheet=payment, upto='B87', start='B')\n",
    "df = concat([ connect( [dfme,dfmp] ) ], ignore_index=True).drop_duplicates(ignore_index=True)\n",
    "\n",
    "# we work in file packet\n",
    "dfp = scan(file=xlsx, namesheet=packet, upto='B46')\n",
    "dfp = DataFrame([ nm for p in df['packet'] for id,nm in dict(dfp.values).items() if p==id ], columns=['packet_name'])\n",
    "df = connect( [df,dfp] )\n",
    "\n",
    "# we work in file edrpou\n",
    "dfef = scan(file=xlsx, namesheet=edrpou, upto='B4961')\n",
    "dfee = scan(file=xlsx, namesheet=edrpou, upto='C4961', start='C')\n",
    "dfee.rename(columns={'ЄДРПОУ':'edrpou'}, inplace = True)\n",
    "dfen = scan(file=xlsx, namesheet=edrpou, upto='D4961', start='D')\n",
    "dfef = connect( [dfee,dfen,dfef] )\n",
    "df = merge(df,dfef,on='edrpou').drop_duplicates(subset=['edrpou','packet'],ignore_index=True)\n",
    "\n",
    "# add cash costs from payment file\n",
    "dfmm = scan(file=xlsx, namesheet=payment, upto='D87', start='C')\n",
    "dfmm = DataFrame( column2rows(dfmm,10), columns=monthly_finance )\n",
    "df = connect( [df,dfmm] )\n",
    "\n",
    "# write everything in xlsx file and rejoice\n",
    "print(df, end='\\n\\n')\n",
    "fill(xlsx, chief, df, mode='a')\n",
    "enable(xlsx)"
   ]
  }
 ],
 "metadata": {
  "kernelspec": {
   "display_name": "Python 3.9.13",
   "language": "python",
   "name": "python3"
  },
  "language_info": {
   "codemirror_mode": {
    "name": "ipython",
    "version": 3
   },
   "file_extension": ".py",
   "mimetype": "text/x-python",
   "name": "python",
   "nbconvert_exporter": "python",
   "pygments_lexer": "ipython3",
   "version": "3.9.13"
  },
  "orig_nbformat": 4,
  "vscode": {
   "interpreter": {
    "hash": "5f23284fad75d58360d212629b595dfe6fd02dbd8325e77387b1e5cbaad4e030"
   }
  }
 },
 "nbformat": 4,
 "nbformat_minor": 2
}
