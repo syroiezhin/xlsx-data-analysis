{
 "cells": [
  {
   "cell_type": "markdown",
   "metadata": {},
   "source": [
    "# 🏗 Groundwork 🪚"
   ]
  },
  {
   "cell_type": "code",
   "execution_count": 6,
   "metadata": {},
   "outputs": [],
   "source": [
    "from pandas import ExcelWriter, DataFrame, ExcelFile, merge, concat, read_excel\n",
    "from openpyxl import load_workbook\n",
    "from os import system, remove\n",
    "from os.path import isfile\n",
    "from glob import glob\n",
    "\n",
    "xlsx = 'unite.xlsx'\n",
    "chief = 'chief'\n",
    "monthly_finance = [ f'M{n}' for n in range(1,10) ]"
   ]
  },
  {
   "cell_type": "markdown",
   "metadata": {},
   "source": [
    "# 👷🏾‍♂️ Functional 👨🏽‍🏭"
   ]
  },
  {
   "cell_type": "code",
   "execution_count": 7,
   "metadata": {},
   "outputs": [],
   "source": [
    "def newfile(name:str): \n",
    "    if isfile(xlsx): remove(xlsx)\n",
    "    ExcelWriter(name).save()\n",
    "\n",
    "def capacity(typefile:str)->list: return sorted([ file for file in glob(f'*.{typefile}') if '~$' not in file ])\n",
    "\n",
    "def fill(file:str, namesheet:str, content:list, columns:list=None, mode:str='w', index:bool=False, header:bool=True):\n",
    "    with ExcelWriter(file, mode=mode, engine=\"openpyxl\", if_sheet_exists=(None if mode=='w' else 'overlay')) as writer:  \n",
    "        content.to_excel(writer, sheet_name=namesheet, index=index, header=header, columns=columns)\n",
    "        \n",
    "def unitexls(fxls:list):\n",
    "    list_sheet=[]\n",
    "    for fxl in fxls:\n",
    "        ef = ExcelFile(fxl)\n",
    "        print('\\n', fxl, \":\", end=' ')\n",
    "        for sheet in ef.sheet_names:\n",
    "            list_sheet.append(sheet) if sheet not in list_sheet else list_sheet.append(sheet+'_'+fxl.replace('.xlsx',''))\n",
    "            fill(content=read_excel(ef, sheet_name=sheet), file=xlsx, namesheet=list_sheet[-1], mode='a', header=True)\n",
    "            print(list_sheet[-1], end=' ')\n",
    "\n",
    "def rename(file:str, sheet:str, oldnamesheet:str='Sheet1'):\n",
    "    fxl = load_workbook(file)\n",
    "    fxl[oldnamesheet].title = sheet\n",
    "    fxl.save(file)\n",
    "\n",
    "def check(file:str, message:str='\\nResult of checking:'):\n",
    "    fxl = load_workbook(file)\n",
    "    sheets = fxl.sheetnames\n",
    "    print(message, sheets, end='\\n\\n')\n",
    "\n",
    "def scan(file:str, namesheet:str, start:str='A', upto:str='A1') -> DataFrame:\n",
    "    tabl = []\n",
    "    fxl = load_workbook(file)\n",
    "    cells = fxl[namesheet][start+'1':upto]\n",
    "    columns = [ cells[0][c].value for c in range(len(cells[0])) ]\n",
    "    for cell in cells[1:]: tabl.append([ cell[c].value for c in range(len(cell)) ])\n",
    "    return DataFrame( tabl, columns=columns, index=list(range(1,int(upto[1:]))) )\n",
    "\n",
    "def connect(dfs:DataFrame) -> DataFrame:\n",
    "    for df in dfs[1:]: dfs[0] = dfs[0].join(df,how='right')\n",
    "    return dfs[0]\n",
    "\n",
    "def add2matrix(matrix:list, index:int, value:list): matrix[index]=matrix[index]+value\n",
    "\n",
    "def column2rows(df:DataFrame, column:int) -> list:\n",
    "    D=[[]]*column\n",
    "    enum = -1\n",
    "    for k,v in df.values: \n",
    "        if int(k)==1: enum+=1\n",
    "        add2matrix(D,enum,[v])\n",
    "    return D\n",
    "\n",
    "def enable(file:str, turnoff:str=\"Microsoft Excel\", afterseconds:int=60): system(f'''open {file}; sleep {afterseconds};   killall \"{turnoff}\" || taskkill /f /im {turnoff.split()[-1]}.exe /t''') # mac || win"
   ]
  },
  {
   "cell_type": "markdown",
   "metadata": {},
   "source": [
    "# 🫡 Screenplay 📝"
   ]
  },
  {
   "cell_type": "code",
   "execution_count": 9,
   "metadata": {},
   "outputs": [
    {
     "name": "stdout",
     "output_type": "stream",
     "text": [
      "\n",
      " ID.xlsx : ID \n",
      " packet.xlsx : packet \n",
      " payment.xlsx : payment \n",
      "Result of checking: ['chief', 'ID', 'packet', 'payment']\n",
      "\n",
      "    id  packet           packet_name Назва закладу Область реєстрації  \\\n",
      "0  109       3   Хірургічна допомога             w             М.КИЇВ   \n",
      "1  109       4  Стаціонарна допомога             w             М.КИЇВ   \n",
      "2  105       3   Хірургічна допомога             v             М.КИЇВ   \n",
      "3  105       4  Стаціонарна допомога             v             М.КИЇВ   \n",
      "4   94       3   Хірургічна допомога             l   ДНІПРОПЕТРОВСЬКА   \n",
      "5   94       4  Стаціонарна допомога             l   ДНІПРОПЕТРОВСЬКА   \n",
      "6  132       3   Хірургічна допомога             t         РІВНЕНСЬКА   \n",
      "7  132       4  Стаціонарна допомога             t         РІВНЕНСЬКА   \n",
      "8   81       3   Хірургічна допомога             s         ПОЛТАВСЬКА   \n",
      "9   81       4  Стаціонарна допомога             s         ПОЛТАВСЬКА   \n",
      "\n",
      "  Форма власності       M1        M2        M3        M4        M5        M6  \\\n",
      "0      Комунальна  9878.67  11190.24  11190.24  11190.24  11190.24  11190.24   \n",
      "1      Комунальна  4561.31   4776.89   4776.89   4776.89   4776.89   4776.89   \n",
      "2      Комунальна    13.09     13.19     13.19     13.19     13.19     13.19   \n",
      "3      Комунальна   140.75    205.58    205.58    205.58    205.58    205.58   \n",
      "4      Комунальна   357.81    384.80    384.80    384.80    384.80    384.80   \n",
      "5      Комунальна   872.14    896.29    896.29    896.29    896.29    896.29   \n",
      "6      Комунальна   411.88    470.67    470.67    470.67    470.67    470.67   \n",
      "7      Комунальна   630.31    681.19    681.19    681.19    681.19    681.19   \n",
      "8      Комунальна  1636.77   2002.42   2002.42   2002.42   2002.42   2002.42   \n",
      "9      Комунальна   642.25    761.74    761.74    761.74    761.74    761.74   \n",
      "\n",
      "         M7       M8       M9  \n",
      "0  11006.49  7833.17  7833.17  \n",
      "1   4571.74  3343.82  3343.82  \n",
      "2      9.23     9.23     9.23  \n",
      "3    193.88   143.91   143.91  \n",
      "4    335.51   269.36      NaN  \n",
      "5    884.98   627.40      NaN  \n",
      "6    451.86   329.46   329.46  \n",
      "7    848.43   476.83   476.83  \n",
      "8   1959.41  1401.69      NaN  \n",
      "9    916.34   533.22      NaN  \n",
      "\n"
     ]
    }
   ],
   "source": [
    "newfile(xlsx)\n",
    "fxls = capacity('xlsx')\n",
    "fxls.remove(xlsx)\n",
    "unitexls(fxls)\n",
    "rename(xlsx, chief)\n",
    "check(xlsx)\n",
    "\n",
    "# we work in file payment\n",
    "dfme = scan(file=xlsx, namesheet='payment', upto='A87')\n",
    "dfmp = scan(file=xlsx, namesheet='payment', upto='B87', start='B')\n",
    "df = concat([ connect( [dfme,dfmp] ) ], ignore_index=True).drop_duplicates(ignore_index=True)\n",
    "\n",
    "# we work in file packet\n",
    "dfp = scan(file=xlsx, namesheet='packet', upto='B6')\n",
    "dfp = DataFrame([ nm for d in df['packet'] for id,nm in dict(dfp.values).items() if d==id ], columns=['packet_name'])\n",
    "df = connect( [df,dfp] )\n",
    "\n",
    "# we work in file ID\n",
    "dfef = scan(file=xlsx, namesheet='ID', upto='B24')\n",
    "dfee = scan(file=xlsx, namesheet='ID', upto='C24', start='C')\n",
    "dfee.rename(columns={'ID':'id'}, inplace = True)\n",
    "dfen = scan(file=xlsx, namesheet='ID', upto='D24', start='D')\n",
    "dfef = connect( [dfee,dfen,dfef] )\n",
    "df = merge(df,dfef,on='id').drop_duplicates(subset=['id','packet'],ignore_index=True)\n",
    "\n",
    "# add cash costs from payment file\n",
    "dfmm = scan(file=xlsx, namesheet='payment', upto='D87', start='C')\n",
    "dfmm = DataFrame( column2rows(dfmm,10), columns=monthly_finance )\n",
    "df = connect( [df,dfmm] )\n",
    "\n",
    "# write everything in xlsx file and rejoice\n",
    "print(df, end='\\n\\n')\n",
    "fill(xlsx, chief, df, mode='a')\n",
    "enable(xlsx)"
   ]
  }
 ],
 "metadata": {
  "kernelspec": {
   "display_name": "Python 3.9.13",
   "language": "python",
   "name": "python3"
  },
  "language_info": {
   "codemirror_mode": {
    "name": "ipython",
    "version": 3
   },
   "file_extension": ".py",
   "mimetype": "text/x-python",
   "name": "python",
   "nbconvert_exporter": "python",
   "pygments_lexer": "ipython3",
   "version": "3.9.13"
  },
  "orig_nbformat": 4,
  "vscode": {
   "interpreter": {
    "hash": "5f23284fad75d58360d212629b595dfe6fd02dbd8325e77387b1e5cbaad4e030"
   }
  }
 },
 "nbformat": 4,
 "nbformat_minor": 2
}
