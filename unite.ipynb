{
 "cells": [
  {
   "cell_type": "markdown",
   "metadata": {},
   "source": [
    "# 🏗 Groundwork 🪚"
   ]
  },
  {
   "cell_type": "code",
   "execution_count": 17,
   "metadata": {},
   "outputs": [],
   "source": [
    "from glob import glob\n",
    "from os.path import isfile\n",
    "from os import system, remove\n",
    "from openpyxl import load_workbook\n",
    "from pandas import ExcelWriter, DataFrame, ExcelFile, merge, concat, read_excel\n",
    "\n",
    "xlsx = 'unite.xlsx'\n",
    "chief = 'chief'\n",
    "payment = 'payment'\n",
    "packet = 'packet'\n",
    "edrpou = 'edrpou'\n",
    "months = 10\n",
    "packet_name = 'packet_name'\n",
    "medinst = 'Назва закладу'\n",
    "regarea = 'Область реєстрації'\n",
    "ownership ='Форма власності'\n",
    "monthly_finance = ['M1','M2','M3','M4','M5','M6','M7','M8','M9','M10']"
   ]
  },
  {
   "cell_type": "markdown",
   "metadata": {},
   "source": [
    "# 👷🏾‍♂️ Functional 👨🏽‍🏭"
   ]
  },
  {
   "cell_type": "code",
   "execution_count": 18,
   "metadata": {},
   "outputs": [],
   "source": [
    "def newfile(name:str): \n",
    "    if isfile(xlsx): remove(xlsx)\n",
    "    ExcelWriter(name).save()\n",
    "\n",
    "def capacity(typefile:str)->list: return sorted([ file for file in glob(f'*.{typefile}') if '~$' not in file ])\n",
    "\n",
    "def fill(file:str, namesheet:str, content:list, columns:list=None, mode:str='w', index:bool=False, header:bool=True):\n",
    "    with ExcelWriter(file, mode=mode, engine=\"openpyxl\", if_sheet_exists=(None if mode=='w' else 'overlay')) as writer:  \n",
    "        content.to_excel(writer, sheet_name=namesheet, index=index, header=header, columns=columns)\n",
    "        \n",
    "def unitexls(fxls:list):\n",
    "    list_sheet=[]\n",
    "    for fxl in fxls:\n",
    "        ef = ExcelFile(fxl)\n",
    "        print('\\n', fxl, \":\", end=' ')\n",
    "        for sheet in ef.sheet_names:\n",
    "            list_sheet.append(sheet) if sheet not in list_sheet else list_sheet.append(sheet+'_'+fxl.replace('.xlsx',''))\n",
    "            fill(content=read_excel(ef, sheet_name=sheet), file=xlsx, namesheet=list_sheet[-1], mode='a', header=True)\n",
    "            print(list_sheet[-1], end=' ')\n",
    "\n",
    "def rename(file:str, sheet:str, oldnamesheet:str='Sheet1'):\n",
    "    fxl = load_workbook(file)\n",
    "    fxl[oldnamesheet].title = sheet\n",
    "    fxl.save(file)\n",
    "\n",
    "def check(file:str, message:str='\\nResult of checking:'):\n",
    "    fxl = load_workbook(file)\n",
    "    sheets = fxl.sheetnames\n",
    "    print(message, sheets, end='\\n\\n')\n",
    "\n",
    "def scan(file:str, namesheet:str, start:str='A', upto:str='A1') -> DataFrame:\n",
    "    tabl = []\n",
    "    fxl = load_workbook(file)\n",
    "    cells = fxl[namesheet][start+'1':upto]\n",
    "    columns = [ cells[0][c].value for c in range(len(cells[0])) ]\n",
    "    for cell in cells[1:]: tabl.append([ cell[c].value for c in range(len(cell)) ])\n",
    "    return DataFrame( tabl, columns=columns, index=list(range(1,int(upto[1:]))) )\n",
    "\n",
    "def connect(dfs:DataFrame) -> DataFrame:\n",
    "    for df in dfs[1:]: dfs[0] = dfs[0].join(df,how='right')\n",
    "    return dfs[0]\n",
    "\n",
    "def column2rows(items:int, df:DataFrame) -> list:\n",
    "    L={}\n",
    "    D=[]\n",
    "    for enum in range(1,items):\n",
    "        for k,v in df.values:\n",
    "            if int(k)==enum:\n",
    "                D.append(v)\n",
    "        if D!=[]: \n",
    "            L[enum]=D\n",
    "            D=[]\n",
    "    L = list(L.values())\n",
    "    return L\n",
    "\n",
    "def enable(file:str, turnoff:str=\"Microsoft Excel\", afterseconds:int=60): system(f'''open {file}; sleep {afterseconds};   killall \"{turnoff}\" || taskkill /f /im {turnoff.split()[-1]}.exe /t''') # mac || win"
   ]
  },
  {
   "cell_type": "markdown",
   "metadata": {},
   "source": [
    "# 🫡 Screenplay 📝"
   ]
  },
  {
   "cell_type": "code",
   "execution_count": 20,
   "metadata": {},
   "outputs": [
    {
     "name": "stdout",
     "output_type": "stream",
     "text": [
      "\n",
      "Result of checking: ['chief', 'edrpou', 'packet', 'payment']\n",
      "\n",
      "    edrpou  packet                                        packet_name  \\\n",
      "0   184945       3  Хірургічні операції дорослим та дітям у стаціо...   \n",
      "1   184945       4  Стаціонарна допомога дорослим та дітям без про...   \n",
      "2   185011       3  Хірургічні операції дорослим та дітям у стаціо...   \n",
      "3   185011       4  Стаціонарна допомога дорослим та дітям без про...   \n",
      "4  1110854       3  Хірургічні операції дорослим та дітям у стаціо...   \n",
      "5  1110854       4  Стаціонарна допомога дорослим та дітям без про...   \n",
      "6  1111032       3  Хірургічні операції дорослим та дітям у стаціо...   \n",
      "7  1111032       4  Стаціонарна допомога дорослим та дітям без про...   \n",
      "8  1111581       3  Хірургічні операції дорослим та дітям у стаціо...   \n",
      "\n",
      "                                       Назва закладу Область реєстрації  \\\n",
      "0  КОМУНАЛЬНЕ НЕКОМЕРЦІЙНЕ ПІДПРИЄМСТВО \"КИЇВСЬКА...             М.КИЇВ   \n",
      "1  КОМУНАЛЬНЕ НЕКОМЕРЦІЙНЕ ПІДПРИЄМСТВО \"КИЇВСЬКА...             М.КИЇВ   \n",
      "2  КОМУНАЛЬНЕ НЕКОМЕРЦІЙНЕ ПІДПРИЄМСТВО \"ДИТЯЧА К...             М.КИЇВ   \n",
      "3  КОМУНАЛЬНЕ НЕКОМЕРЦІЙНЕ ПІДПРИЄМСТВО \"ДИТЯЧА К...             М.КИЇВ   \n",
      "4  КОМУНАЛЬНЕ НЕКОМЕРЦІЙНЕ ПІДПРИЄМСТВО КОНОТОПСЬ...            СУМСЬКА   \n",
      "5  КОМУНАЛЬНЕ НЕКОМЕРЦІЙНЕ ПІДПРИЄМСТВО КОНОТОПСЬ...            СУМСЬКА   \n",
      "6  КОМУНАЛЬНЕ НЕКОМЕРЦІЙНЕ ПІДПРИЄМСТВО \"МІСЬКА Л...         РІВНЕНСЬКА   \n",
      "7  КОМУНАЛЬНЕ НЕКОМЕРЦІЙНЕ ПІДПРИЄМСТВО \"МІСЬКА Л...         РІВНЕНСЬКА   \n",
      "8  КОМУНАЛЬНЕ ПІДПРИЄМСТВО ''3-Я МІСЬКА КЛІНІЧНА ...         ПОЛТАВСЬКА   \n",
      "\n",
      "  Форма власності  M1  M2  M3  M4  M5  M6    M7    M8    M9   M10  \n",
      "0      Комунальна  1A  2A  3A  4A  5A  6A    7A    8A    9A   10A  \n",
      "1      Комунальна  1B  2B  3B  4B  5B  6B    7B    8B    9B   10B  \n",
      "2      Комунальна  1C  2C  3C  4C  5C  6C    7C    8C    9C   10C  \n",
      "3      Комунальна  1D  2D  3D  4D  5D  6D    7D    8D    9D   10D  \n",
      "4      Комунальна  1E  2E  3E  4E  5E  6E    7E    8E    9E   10E  \n",
      "5      Комунальна  1F  2F  3F  4F  5F  6F    7F    8F    9F   10F  \n",
      "6      Комунальна  1G  2G  3G  4G  5G  6G    7G    8G    9G   10G  \n",
      "7      Комунальна  1H  2H  3H  4H  5H  6H    7H    8H    9H   10H  \n",
      "8      Комунальна  1I  2I  3I  4I  7I  8I  None  None  None  None  \n",
      "\n"
     ]
    }
   ],
   "source": [
    "newfile(xlsx)\n",
    "fxls = capacity('xlsx')\n",
    "fxls.remove(xlsx)\n",
    "unitexls(fxls)\n",
    "rename(xlsx, chief)\n",
    "check(xlsx)\n",
    "\n",
    "# we work in file payment\n",
    "dfme = scan(file=xlsx, namesheet=payment, upto='A87')\n",
    "dfmp = scan(file=xlsx, namesheet=payment, upto='B87', start='B')\n",
    "df = concat([ connect( [dfme,dfmp] ) ], ignore_index=True).drop_duplicates(ignore_index=True)\n",
    "\n",
    "# we work in file packet\n",
    "dfp = scan(file=xlsx, namesheet=packet, upto='B46')\n",
    "dfp = DataFrame([ nm for p in df['packet'] for id,nm in dict(dfp.values).items() if p==id ], columns=['packet_name'])\n",
    "df = connect( [df,dfp] )\n",
    "\n",
    "# we work in file edrpou\n",
    "dfef = scan(file=xlsx, namesheet=edrpou, upto='B4961')\n",
    "dfee = scan(file=xlsx, namesheet=edrpou, upto='C4961', start='C')\n",
    "dfee.rename(columns={'ЄДРПОУ':'edrpou'}, inplace = True)\n",
    "dfen = scan(file=xlsx, namesheet=edrpou, upto='D4961', start='D')\n",
    "dfef = connect( [dfee,dfen,dfef] )\n",
    "df = merge(df,dfef,on='edrpou').drop_duplicates(subset=['edrpou','packet'],ignore_index=True)\n",
    "\n",
    "# add cash costs from payment file\n",
    "dfmm = scan(file=xlsx, namesheet=payment, upto='D87', start='C')\n",
    "dfmm = DataFrame( column2rows(months,dfmm), columns=monthly_finance )\n",
    "df = connect( [df,dfmm] )\n",
    "\n",
    "# write everything in xlsx file and rejoice\n",
    "print(df, end='\\n\\n')\n",
    "fill(xlsx, chief, df, mode='a')\n",
    "enable(xlsx)"
   ]
  }
 ],
 "metadata": {
  "kernelspec": {
   "display_name": "Python 3.9.13",
   "language": "python",
   "name": "python3"
  },
  "language_info": {
   "codemirror_mode": {
    "name": "ipython",
    "version": 3
   },
   "file_extension": ".py",
   "mimetype": "text/x-python",
   "name": "python",
   "nbconvert_exporter": "python",
   "pygments_lexer": "ipython3",
   "version": "3.9.13"
  },
  "orig_nbformat": 4,
  "vscode": {
   "interpreter": {
    "hash": "5f23284fad75d58360d212629b595dfe6fd02dbd8325e77387b1e5cbaad4e030"
   }
  }
 },
 "nbformat": 4,
 "nbformat_minor": 2
}
